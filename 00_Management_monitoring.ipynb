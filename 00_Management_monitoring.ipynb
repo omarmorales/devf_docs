{
  "nbformat": 4,
  "nbformat_minor": 0,
  "metadata": {
    "colab": {
      "name": "00.Management_monitoring.ipynb",
      "provenance": [],
      "collapsed_sections": [],
      "toc_visible": true,
      "include_colab_link": true
    },
    "kernelspec": {
      "name": "python3",
      "display_name": "Python 3"
    },
    "language_info": {
      "name": "python"
    }
  },
  "cells": [
    {
      "cell_type": "markdown",
      "metadata": {
        "id": "view-in-github",
        "colab_type": "text"
      },
      "source": [
        "<a href=\"https://colab.research.google.com/github/omarmorales/devf_docs/blob/main/00_Management_monitoring.ipynb\" target=\"_parent\"><img src=\"https://colab.research.google.com/assets/colab-badge.svg\" alt=\"Open In Colab\"/></a>"
      ]
    },
    {
      "cell_type": "markdown",
      "metadata": {
        "id": "voJhXZpd8nYW"
      },
      "source": [
        "En esta libreta están los enlaces a los recursos de la clase:\n",
        "\n",
        "* La [presentación](https://docs.google.com/presentation/d/17kdpY0cfNpQl2dsRWR47wpkP3Y4D2EdE3-upYPOaCn0/edit?usp=sharing) sobre administración de experimentos.\n",
        "\n",
        "Clase anterior de [airflow](https://michal.karzynski.pl/blog/2017/03/19/developing-workflows-with-apache-airflow/) y [github](https://github.com/https-deeplearning-ai/machine-learning-engineering-for-production-public) de \n",
        "la especialización de [MLOps en Coursera](https://www.coursera.org/specializations/machine-learning-engineering-for-production-mlops).\n",
        "\n",
        "[docker](https://docs.docker.com/get-docker/) y cómo [instalar](https://github.com/https-deeplearning-ai/machine-learning-engineering-for-production-public/blob/main/course4/week1-ungraded-labs/C4_W1_Lab_1_Docker_Intro.md) y tutorial de [pelado nerd](https://youtu.be/CV_Uf3Dq-EU)\n",
        "\n",
        "Desplegar un modelo de [ML](https://github.com/https-deeplearning-ai/machine-learning-engineering-for-production-public/tree/main/course1/week1-ungraded-lab)\n",
        "\n",
        "versionado de [modelos](https://github.com/https-deeplearning-ai/machine-learning-engineering-for-production-public/blob/main/course4/week3-ungraded-labs/C4_W3_Lab_3_TFS_Model_Versioning/README.md)\n",
        "\n",
        "[kubeflow](https://www.kubeflow.org/docs/components/pipelines/overview/pipelines-overview/)\n",
        "\n",
        "Arquitectura para MLOps con [kubeflow](https://cloud.google.com/architecture/architecture-for-mlops-using-tfx-kubeflow-pipelines-and-cloud-build)\n",
        "\n",
        "\n",
        "\n",
        "Instalar [Neptune.ai](https://app.neptune.ai/) en jupiter local [link](https://app.neptune.ai/common/quickstarts/notebooks) y tutorial para [logs](https://docs.neptune.ai/how-to-guides/model-registry/log-model-building-metadata)\n",
        "\n",
        "aquí para crear una conexión a la API con [colab](https://app.neptune.ai/juanvazqmont/test01/experiments?split=tbl&dash=charts&viewId=standard-view)\n",
        "\n",
        "01 tour de [Neptune.ai API](https://colab.research.google.com/drive/1t8X_YRVrlAX6RB0aBYCvhkRhCTRg2vNL?usp=sharing) con la descripción del Challenge incluído.\n",
        "\n",
        "02 organizar [ML runs](https://colab.research.google.com/drive/1iJFl-XV44EynG95GphsAkfmEyn3aoHKk?usp=sharing)  y la guía de [experimentos](https://neptune.ai/blog/experiment-management)\n",
        "\n",
        "\n",
        "03 ML pipelines con [kubeflow](https://colab.research.google.com/drive/1g6G8TLkIIa9Up6zO_00yAeje1TDh3YBV) \n",
        "\n",
        "04 desarrollo de componentes personalizados con [TFX](https://colab.research.google.com/drive/1RcSecPynN2CoRpbEQXd8D-fg6njjRSXx)\n",
        "\n",
        "opt ETL Pipelines and Batch Predictions with [Apache Beam and Tensorflow](https://colab.research.google.com/github/https-deeplearning-ai/machine-learning-engineering-for-production-public/blob/main/course4/week2-ungraded-labs/C4_W2_Lab_4_ETL_Beam/C4_W2_Lab_4_Apache_Beam_and_Tensorflow.ipynb)\n",
        "\n",
        "Otros Links\n",
        "\n",
        "[MLOps course](https://learn.learningwithdata.com/courses/how-to-deploy-machine-learning-models)\n",
        "\n",
        "[get started with MLOps](https://towardsdatascience.com/get-started-with-mlops-fd7062cab018)\n",
        "\n",
        "[certificación de coursera para MLOps](https://github.com/https-deeplearning-ai/machine-learning-engineering-for-production-public)\n",
        "\n",
        "Intro a CI/CD con [github actions](https://github.com/https-deeplearning-ai/machine-learning-engineering-for-production-public/blob/main/course4/week3-ungraded-labs/C4_W3_Lab_4_Github_Actions/README.md)\n",
        "\n",
        "\n",
        "\n"
      ]
    },
    {
      "cell_type": "markdown",
      "metadata": {
        "id": "6oB15E1uLIPS"
      },
      "source": [
        "# Docker\n",
        "\n",
        "* [sandbox](https://labs.play-with-docker.com/)\n",
        "\n",
        "* videos de [pelado nerd](https://youtu.be/6idFknRIOp4).\n",
        "\n",
        "tutorial \n",
        "https://www.freecodecamp.org/news/a-beginners-guide-to-docker-how-to-create-your-first-docker-application-cc03de9b639f/\n",
        "\n",
        "https://thobias.org/docker/index.html\n",
        "\n",
        "first docker app\n",
        "https://github.com/gaelgthomas/docker-first-application-example\n",
        "\n",
        "first docker image\n",
        "https://towardsdatascience.com/how-docker-can-help-you-become-a-more-effective-data-scientist-7fc048ef91d5\n",
        "\n",
        "docker cheatsheet\n",
        "https://www.docker.com/sites/default/files/d8/2019-09/docker-cheat-sheet.pdf\n",
        "\n",
        "docker 4 ds\n",
        "https://towardsdatascience.com/docker-for-data-science-a-step-by-step-guide-1e5f7f3baf8e\n",
        "\n",
        "dockerizar python app\n",
        "https://runnable.com/docker/python/dockerize-your-python-application\n",
        "\n",
        "dash app in container\n",
        "https://community.plotly.com/t/running-dash-app-in-docker-container/16067\n",
        "\n"
      ]
    },
    {
      "cell_type": "markdown",
      "metadata": {
        "id": "x1H352IseLjH"
      },
      "source": [
        "# CI / CD\n",
        "\n",
        "https://youtu.be/fFze33y5-RM\n",
        "\n",
        "https://circleci.com/ "
      ]
    },
    {
      "cell_type": "markdown",
      "metadata": {
        "id": "TLYS11SBfvq7"
      },
      "source": [
        "# Github Actions \n",
        "\n",
        "* Guias [1](https://youtu.be/MNBf-ylhtK0) y [2](https://youtu.be/9t9j-5NWRAw) de pelado nerd + [repo](https://github.com/pablokbs/prueba-gha).\n",
        "\n"
      ]
    },
    {
      "cell_type": "code",
      "metadata": {
        "id": "1XBeNmix8gjx"
      },
      "source": [
        ""
      ],
      "execution_count": null,
      "outputs": []
    },
    {
      "cell_type": "code",
      "metadata": {
        "id": "vP_QDOBu8m-r"
      },
      "source": [
        ""
      ],
      "execution_count": null,
      "outputs": []
    }
  ]
}